{
 "cells": [
  {
   "cell_type": "markdown",
   "metadata": {},
   "source": [
    "# Logistic Regression"
   ]
  },
  {
   "cell_type": "markdown",
   "metadata": {},
   "source": [
    "## Binary Classification\n",
    "### Notation\n",
    "E.g. Cat vs. Non-Cat\n",
    "\n",
    "for 1(cat) vs 0(non-cat)\n",
    "\n",
    "image shape: (num_px, num_px, color) = (height, width, color)\n",
    "\n",
    "num_px = 64, 64x64 image\n",
    "color = 3, RGB\n",
    "\n",
    "x=[x1,x2,...,xn] is a vector of features\n",
    "y is a label\n",
    "in this case nx = 64x64x3 = 12288\n",
    "m is the number of training examples\n",
    "m:{(x1,y1),(x2,y2),...,(xm,ym)}\n",
    "X is a matrix of features\n",
    "X=[x1,x2,...,xm], X.shape = (nx,m)\n",
    "Y is a vector of labels\n",
    "Y=[y1,y2,...,ym], Y.shape = (1,m)\n"
   ]
  }
 ],
 "metadata": {
  "kernelspec": {
   "display_name": "Python 3 (ipykernel)",
   "language": "python",
   "name": "python3"
  },
  "orig_nbformat": 4
 },
 "nbformat": 4,
 "nbformat_minor": 2
}
